{
 "cells": [
  {
   "cell_type": "markdown",
   "id": "6aa7c728-15b8-465b-b102-175c2de5a61f",
   "metadata": {},
   "source": [
    "# Import Libraries"
   ]
  },
  {
   "cell_type": "code",
   "execution_count": 28,
   "id": "86063b98-77ca-4f93-a2ec-a911f4080f1b",
   "metadata": {},
   "outputs": [],
   "source": [
    "import pandas as pd\n",
    "from sklearn.metrics import davies_bouldin_score\n",
    "from sklearn.cluster import KMeans\n",
    "from sklearn.preprocessing import MinMaxScaler\n",
    "from sklearn.metrics.pairwise import cosine_similarity"
   ]
  },
  {
   "cell_type": "markdown",
   "id": "52657972-8733-42a6-9687-f845b225863f",
   "metadata": {},
   "source": [
    "## Loading Data"
   ]
  },
  {
   "cell_type": "code",
   "execution_count": 2,
   "id": "539de238-66ac-4125-81c4-ac012c715fcc",
   "metadata": {},
   "outputs": [
    {
     "data": {
      "text/plain": [
       "(    TransactionID CustomerID ProductID      TransactionDate  Quantity  \\\n",
       " 0          T00001      C0199      P067  2024-08-25 12:38:23         1   \n",
       " 1          T00112      C0146      P067  2024-05-27 22:23:54         1   \n",
       " 2          T00166      C0127      P067  2024-04-25 07:38:55         1   \n",
       " 3          T00272      C0087      P067  2024-03-26 22:55:37         2   \n",
       " 4          T00363      C0070      P067  2024-03-21 15:10:10         3   \n",
       " ..            ...        ...       ...                  ...       ...   \n",
       " 995        T00496      C0118      P037  2024-10-24 08:30:27         1   \n",
       " 996        T00759      C0059      P037  2024-06-04 02:15:24         3   \n",
       " 997        T00922      C0018      P037  2024-04-05 13:05:32         4   \n",
       " 998        T00959      C0115      P037  2024-09-29 10:16:02         2   \n",
       " 999        T00992      C0024      P037  2024-04-21 10:52:24         1   \n",
       " \n",
       "      TotalValue   Price  \n",
       " 0        300.68  300.68  \n",
       " 1        300.68  300.68  \n",
       " 2        300.68  300.68  \n",
       " 3        601.36  300.68  \n",
       " 4        902.04  300.68  \n",
       " ..          ...     ...  \n",
       " 995      459.86  459.86  \n",
       " 996     1379.58  459.86  \n",
       " 997     1839.44  459.86  \n",
       " 998      919.72  459.86  \n",
       " 999      459.86  459.86  \n",
       " \n",
       " [1000 rows x 7 columns],\n",
       "    ProductID              ProductName     Category   Price\n",
       " 0       P001     ActiveWear Biography        Books  169.30\n",
       " 1       P002    ActiveWear Smartwatch  Electronics  346.30\n",
       " 2       P003  ComfortLiving Biography        Books   44.12\n",
       " 3       P004            BookWorld Rug   Home Decor   95.69\n",
       " 4       P005          TechPro T-Shirt     Clothing  429.31\n",
       " ..       ...                      ...          ...     ...\n",
       " 95      P096     SoundWave Headphones  Electronics  307.47\n",
       " 96      P097       BookWorld Cookbook        Books  319.34\n",
       " 97      P098         SoundWave Laptop  Electronics  299.93\n",
       " 98      P099   SoundWave Mystery Book        Books  354.29\n",
       " 99      P100        HomeSense Sweater     Clothing  126.34\n",
       " \n",
       " [100 rows x 4 columns])"
      ]
     },
     "execution_count": 2,
     "metadata": {},
     "output_type": "execute_result"
    }
   ],
   "source": [
    "Transactions=pd.read_csv(\"Transactions.csv\")\n",
    "Products=pd.read_csv(\"Products.csv\")\n",
    "Transactions,Products"
   ]
  },
  {
   "cell_type": "code",
   "execution_count": 3,
   "id": "09df77e5-7b13-4cc6-97b5-4559bdb3293e",
   "metadata": {},
   "outputs": [
    {
     "name": "stdout",
     "output_type": "stream",
     "text": [
      "<class 'pandas.core.frame.DataFrame'>\n",
      "RangeIndex: 1000 entries, 0 to 999\n",
      "Data columns (total 7 columns):\n",
      " #   Column           Non-Null Count  Dtype  \n",
      "---  ------           --------------  -----  \n",
      " 0   TransactionID    1000 non-null   object \n",
      " 1   CustomerID       1000 non-null   object \n",
      " 2   ProductID        1000 non-null   object \n",
      " 3   TransactionDate  1000 non-null   object \n",
      " 4   Quantity         1000 non-null   int64  \n",
      " 5   TotalValue       1000 non-null   float64\n",
      " 6   Price            1000 non-null   float64\n",
      "dtypes: float64(2), int64(1), object(4)\n",
      "memory usage: 54.8+ KB\n",
      "<class 'pandas.core.frame.DataFrame'>\n",
      "RangeIndex: 100 entries, 0 to 99\n",
      "Data columns (total 4 columns):\n",
      " #   Column       Non-Null Count  Dtype  \n",
      "---  ------       --------------  -----  \n",
      " 0   ProductID    100 non-null    object \n",
      " 1   ProductName  100 non-null    object \n",
      " 2   Category     100 non-null    object \n",
      " 3   Price        100 non-null    float64\n",
      "dtypes: float64(1), object(3)\n",
      "memory usage: 3.3+ KB\n"
     ]
    },
    {
     "data": {
      "text/plain": [
       "(    TransactionID CustomerID ProductID      TransactionDate  Quantity  \\\n",
       " 0          T00001      C0199      P067  2024-08-25 12:38:23         1   \n",
       " 1          T00112      C0146      P067  2024-05-27 22:23:54         1   \n",
       " 2          T00166      C0127      P067  2024-04-25 07:38:55         1   \n",
       " 3          T00272      C0087      P067  2024-03-26 22:55:37         2   \n",
       " 4          T00363      C0070      P067  2024-03-21 15:10:10         3   \n",
       " ..            ...        ...       ...                  ...       ...   \n",
       " 995        T00496      C0118      P037  2024-10-24 08:30:27         1   \n",
       " 996        T00759      C0059      P037  2024-06-04 02:15:24         3   \n",
       " 997        T00922      C0018      P037  2024-04-05 13:05:32         4   \n",
       " 998        T00959      C0115      P037  2024-09-29 10:16:02         2   \n",
       " 999        T00992      C0024      P037  2024-04-21 10:52:24         1   \n",
       " \n",
       "      TotalValue   Price  \n",
       " 0        300.68  300.68  \n",
       " 1        300.68  300.68  \n",
       " 2        300.68  300.68  \n",
       " 3        601.36  300.68  \n",
       " 4        902.04  300.68  \n",
       " ..          ...     ...  \n",
       " 995      459.86  459.86  \n",
       " 996     1379.58  459.86  \n",
       " 997     1839.44  459.86  \n",
       " 998      919.72  459.86  \n",
       " 999      459.86  459.86  \n",
       " \n",
       " [1000 rows x 7 columns],\n",
       "    ProductID              ProductName     Category   Price\n",
       " 0       P001     ActiveWear Biography        Books  169.30\n",
       " 1       P002    ActiveWear Smartwatch  Electronics  346.30\n",
       " 2       P003  ComfortLiving Biography        Books   44.12\n",
       " 3       P004            BookWorld Rug   Home Decor   95.69\n",
       " 4       P005          TechPro T-Shirt     Clothing  429.31\n",
       " ..       ...                      ...          ...     ...\n",
       " 95      P096     SoundWave Headphones  Electronics  307.47\n",
       " 96      P097       BookWorld Cookbook        Books  319.34\n",
       " 97      P098         SoundWave Laptop  Electronics  299.93\n",
       " 98      P099   SoundWave Mystery Book        Books  354.29\n",
       " 99      P100        HomeSense Sweater     Clothing  126.34\n",
       " \n",
       " [100 rows x 4 columns])"
      ]
     },
     "execution_count": 3,
     "metadata": {},
     "output_type": "execute_result"
    }
   ],
   "source": [
    "Transactions.info()\n",
    "Products.info()\n",
    "Transactions, Products"
   ]
  },
  {
   "cell_type": "markdown",
   "id": "ba028363-e5c2-4099-b343-d68080e31b62",
   "metadata": {},
   "source": [
    "# Cleaning and Preprocessing Data"
   ]
  },
  {
   "cell_type": "code",
   "execution_count": 4,
   "id": "eab4aa45-42f4-402e-8cdc-6cf0f309deec",
   "metadata": {},
   "outputs": [],
   "source": [
    "Transactions['TransactionDate'] = pd.to_datetime(Transactions['TransactionDate'])"
   ]
  },
  {
   "cell_type": "code",
   "execution_count": 5,
   "id": "d5a435e2-5ae0-46ea-aac9-051bff63dc0d",
   "metadata": {},
   "outputs": [],
   "source": [
    "merged = pd.merge(Transactions, Products, on='ProductID', how='left')"
   ]
  },
  {
   "cell_type": "code",
   "execution_count": 7,
   "id": "47b35dc3-493e-40e6-91ea-57717b188203",
   "metadata": {},
   "outputs": [],
   "source": [
    "top_products = merged.groupby('ProductName').agg({'Quantity': 'sum', 'TotalValue': 'sum'}).sort_values(\n",
    "    'Quantity', ascending=False).reset_index()"
   ]
  },
  {
   "cell_type": "code",
   "execution_count": 8,
   "id": "095eced5-804a-4b9d-8037-5f46fb622ac5",
   "metadata": {},
   "outputs": [],
   "source": [
    "sales_trends = merged.groupby(merged['TransactionDate'].dt.to_period('M')).agg({'TotalValue': 'sum'}).reset_index()\n"
   ]
  },
  {
   "cell_type": "code",
   "execution_count": 9,
   "id": "c3f8f65f-955c-4b8c-b841-07273ff7a651",
   "metadata": {},
   "outputs": [],
   "source": [
    "customers_df = pd.DataFrame({\n",
    "    'CustomerID': [f'C{i:04d}' for i in range(1, 101)],\n",
    "    'CustomerName': [f'Customer_{i}' for i in range(1, 101)],\n",
    "    'Region': ['North America'] * 25 + ['Europe'] * 25 + ['Asia'] * 25 + ['South America'] * 25,\n",
    "    'SignupDate': pd.date_range(start='2023-01-01', periods=100, freq='7D')\n",
    "})"
   ]
  },
  {
   "cell_type": "code",
   "execution_count": 10,
   "id": "73ed4388-6d5e-415f-b3b8-73df5b5a5c74",
   "metadata": {},
   "outputs": [
    {
     "data": {
      "text/html": [
       "<div>\n",
       "<style scoped>\n",
       "    .dataframe tbody tr th:only-of-type {\n",
       "        vertical-align: middle;\n",
       "    }\n",
       "\n",
       "    .dataframe tbody tr th {\n",
       "        vertical-align: top;\n",
       "    }\n",
       "\n",
       "    .dataframe thead th {\n",
       "        text-align: right;\n",
       "    }\n",
       "</style>\n",
       "<table border=\"1\" class=\"dataframe\">\n",
       "  <thead>\n",
       "    <tr style=\"text-align: right;\">\n",
       "      <th></th>\n",
       "      <th>CustomerID</th>\n",
       "      <th>TotalValue</th>\n",
       "      <th>ProductID</th>\n",
       "    </tr>\n",
       "  </thead>\n",
       "  <tbody>\n",
       "    <tr>\n",
       "      <th>0</th>\n",
       "      <td>C0001</td>\n",
       "      <td>3354.52</td>\n",
       "      <td>P022</td>\n",
       "    </tr>\n",
       "    <tr>\n",
       "      <th>1</th>\n",
       "      <td>C0002</td>\n",
       "      <td>1862.74</td>\n",
       "      <td>P004</td>\n",
       "    </tr>\n",
       "    <tr>\n",
       "      <th>2</th>\n",
       "      <td>C0003</td>\n",
       "      <td>2725.38</td>\n",
       "      <td>P002</td>\n",
       "    </tr>\n",
       "    <tr>\n",
       "      <th>3</th>\n",
       "      <td>C0004</td>\n",
       "      <td>5354.88</td>\n",
       "      <td>P008</td>\n",
       "    </tr>\n",
       "    <tr>\n",
       "      <th>4</th>\n",
       "      <td>C0005</td>\n",
       "      <td>2034.24</td>\n",
       "      <td>P012</td>\n",
       "    </tr>\n",
       "  </tbody>\n",
       "</table>\n",
       "</div>"
      ],
      "text/plain": [
       "  CustomerID  TotalValue ProductID\n",
       "0      C0001     3354.52      P022\n",
       "1      C0002     1862.74      P004\n",
       "2      C0003     2725.38      P002\n",
       "3      C0004     5354.88      P008\n",
       "4      C0005     2034.24      P012"
      ]
     },
     "execution_count": 10,
     "metadata": {},
     "output_type": "execute_result"
    }
   ],
   "source": [
    "customer_features = merged.groupby('CustomerID').agg({\n",
    "    'TotalValue': 'sum',\n",
    "    'ProductID': lambda x: x.mode()[0]  # Most purchased product (mode)\n",
    "}).reset_index()\n",
    "customer_features.head()"
   ]
  },
  {
   "cell_type": "code",
   "execution_count": 11,
   "id": "1bf8b177-080c-4621-a18a-ca69ef76c5e4",
   "metadata": {},
   "outputs": [],
   "source": [
    "scaler = MinMaxScaler()\n",
    "normalized_features = scaler.fit_transform(customer_features[['TotalValue']])"
   ]
  },
  {
   "cell_type": "code",
   "execution_count": 12,
   "id": "86bad2ef-a637-4619-9a6f-ef5db02afb69",
   "metadata": {},
   "outputs": [],
   "source": [
    "similarity_matrix = cosine_similarity(normalized_features)"
   ]
  },
  {
   "cell_type": "markdown",
   "id": "837ed0d5-3656-4071-8f5b-ea77bcafefbd",
   "metadata": {},
   "source": [
    "# Looklike Model"
   ]
  },
  {
   "cell_type": "code",
   "execution_count": 13,
   "id": "51e1bbd7-e546-446b-85b8-48f719c2d0fa",
   "metadata": {},
   "outputs": [
    {
     "data": {
      "text/plain": [
       "{'C0001': [('C0075', 1.0), ('C0073', 1.0), ('C0072', 1.0)],\n",
       " 'C0002': [('C0075', 1.0), ('C0073', 1.0), ('C0072', 1.0)],\n",
       " 'C0003': [('C0075', 1.0), ('C0073', 1.0), ('C0072', 1.0)],\n",
       " 'C0004': [('C0075', 1.0), ('C0073', 1.0), ('C0072', 1.0)],\n",
       " 'C0005': [('C0075', 1.0), ('C0073', 1.0), ('C0072', 1.0)],\n",
       " 'C0006': [('C0075', 1.0), ('C0073', 1.0), ('C0072', 1.0)],\n",
       " 'C0007': [('C0075', 1.0), ('C0073', 1.0), ('C0072', 1.0)],\n",
       " 'C0008': [('C0075', 1.0), ('C0073', 1.0), ('C0072', 1.0)],\n",
       " 'C0009': [('C0075', 1.0), ('C0073', 1.0), ('C0072', 1.0)],\n",
       " 'C0010': [('C0075', 1.0), ('C0073', 1.0), ('C0072', 1.0)],\n",
       " 'C0011': [('C0075', 1.0), ('C0073', 1.0), ('C0072', 1.0)],\n",
       " 'C0012': [('C0075', 1.0), ('C0073', 1.0), ('C0072', 1.0)],\n",
       " 'C0013': [('C0075', 1.0), ('C0073', 1.0), ('C0072', 1.0)],\n",
       " 'C0014': [('C0075', 1.0), ('C0073', 1.0), ('C0072', 1.0)],\n",
       " 'C0015': [('C0075', 1.0), ('C0073', 1.0), ('C0072', 1.0)],\n",
       " 'C0016': [('C0075', 1.0), ('C0073', 1.0), ('C0072', 1.0)],\n",
       " 'C0017': [('C0075', 1.0), ('C0073', 1.0), ('C0072', 1.0)],\n",
       " 'C0018': [('C0075', 1.0), ('C0073', 1.0), ('C0072', 1.0)],\n",
       " 'C0019': [('C0075', 1.0), ('C0073', 1.0), ('C0072', 1.0)],\n",
       " 'C0020': [('C0075', 1.0), ('C0073', 1.0), ('C0072', 1.0)]}"
      ]
     },
     "execution_count": 13,
     "metadata": {},
     "output_type": "execute_result"
    }
   ],
   "source": [
    "lookalike_results = {}\n",
    "for i, customer_id in enumerate(customer_features['CustomerID'][:20]):\n",
    "    similar_indices = similarity_matrix[i].argsort()[::-1][1:4]  # Get top 3 similar customers\n",
    "    lookalike_results[customer_id] = [\n",
    "        (customer_features['CustomerID'].iloc[idx], similarity_matrix[i][idx]) for idx in similar_indices\n",
    "    ]\n",
    "lookalike_results"
   ]
  },
  {
   "cell_type": "markdown",
   "id": "6d3cd47d-7a30-408d-a556-da96945bebf7",
   "metadata": {},
   "source": [
    "# Applying Clustering Algorthims"
   ]
  },
  {
   "cell_type": "code",
   "execution_count": 15,
   "id": "368edc19-fabe-49c9-8ce2-12223cbe08ec",
   "metadata": {},
   "outputs": [
    {
     "data": {
      "text/html": [
       "<div>\n",
       "<style scoped>\n",
       "    .dataframe tbody tr th:only-of-type {\n",
       "        vertical-align: middle;\n",
       "    }\n",
       "\n",
       "    .dataframe tbody tr th {\n",
       "        vertical-align: top;\n",
       "    }\n",
       "\n",
       "    .dataframe thead th {\n",
       "        text-align: right;\n",
       "    }\n",
       "</style>\n",
       "<table border=\"1\" class=\"dataframe\">\n",
       "  <thead>\n",
       "    <tr style=\"text-align: right;\">\n",
       "      <th></th>\n",
       "      <th>CustomerID</th>\n",
       "      <th>TotalValue</th>\n",
       "      <th>TransactionID</th>\n",
       "    </tr>\n",
       "  </thead>\n",
       "  <tbody>\n",
       "    <tr>\n",
       "      <th>0</th>\n",
       "      <td>C0001</td>\n",
       "      <td>3354.52</td>\n",
       "      <td>5</td>\n",
       "    </tr>\n",
       "    <tr>\n",
       "      <th>1</th>\n",
       "      <td>C0002</td>\n",
       "      <td>1862.74</td>\n",
       "      <td>4</td>\n",
       "    </tr>\n",
       "    <tr>\n",
       "      <th>2</th>\n",
       "      <td>C0003</td>\n",
       "      <td>2725.38</td>\n",
       "      <td>4</td>\n",
       "    </tr>\n",
       "    <tr>\n",
       "      <th>3</th>\n",
       "      <td>C0004</td>\n",
       "      <td>5354.88</td>\n",
       "      <td>8</td>\n",
       "    </tr>\n",
       "    <tr>\n",
       "      <th>4</th>\n",
       "      <td>C0005</td>\n",
       "      <td>2034.24</td>\n",
       "      <td>3</td>\n",
       "    </tr>\n",
       "    <tr>\n",
       "      <th>...</th>\n",
       "      <td>...</td>\n",
       "      <td>...</td>\n",
       "      <td>...</td>\n",
       "    </tr>\n",
       "    <tr>\n",
       "      <th>194</th>\n",
       "      <td>C0196</td>\n",
       "      <td>4982.88</td>\n",
       "      <td>4</td>\n",
       "    </tr>\n",
       "    <tr>\n",
       "      <th>195</th>\n",
       "      <td>C0197</td>\n",
       "      <td>1928.65</td>\n",
       "      <td>3</td>\n",
       "    </tr>\n",
       "    <tr>\n",
       "      <th>196</th>\n",
       "      <td>C0198</td>\n",
       "      <td>931.83</td>\n",
       "      <td>2</td>\n",
       "    </tr>\n",
       "    <tr>\n",
       "      <th>197</th>\n",
       "      <td>C0199</td>\n",
       "      <td>1979.28</td>\n",
       "      <td>4</td>\n",
       "    </tr>\n",
       "    <tr>\n",
       "      <th>198</th>\n",
       "      <td>C0200</td>\n",
       "      <td>4758.60</td>\n",
       "      <td>5</td>\n",
       "    </tr>\n",
       "  </tbody>\n",
       "</table>\n",
       "<p>199 rows × 3 columns</p>\n",
       "</div>"
      ],
      "text/plain": [
       "    CustomerID  TotalValue  TransactionID\n",
       "0        C0001     3354.52              5\n",
       "1        C0002     1862.74              4\n",
       "2        C0003     2725.38              4\n",
       "3        C0004     5354.88              8\n",
       "4        C0005     2034.24              3\n",
       "..         ...         ...            ...\n",
       "194      C0196     4982.88              4\n",
       "195      C0197     1928.65              3\n",
       "196      C0198      931.83              2\n",
       "197      C0199     1979.28              4\n",
       "198      C0200     4758.60              5\n",
       "\n",
       "[199 rows x 3 columns]"
      ]
     },
     "execution_count": 15,
     "metadata": {},
     "output_type": "execute_result"
    }
   ],
   "source": [
    "clustering_features = merged.groupby('CustomerID').agg({\n",
    "    'TotalValue': 'sum',\n",
    "    'TransactionID': 'count'\n",
    "}).reset_index()\n",
    "clustering_features"
   ]
  },
  {
   "cell_type": "code",
   "execution_count": 16,
   "id": "6a63cb09-380c-4d0d-bef8-3ed821ebda50",
   "metadata": {},
   "outputs": [
    {
     "data": {
      "text/plain": [
       "array([[0.30894178, 0.4       ],\n",
       "       [0.16809501, 0.3       ],\n",
       "       [0.24954138, 0.3       ],\n",
       "       [0.49780626, 0.7       ],\n",
       "       [0.18428723, 0.2       ],\n",
       "       [0.39137101, 0.3       ],\n",
       "       [0.2357983 , 0.2       ],\n",
       "       [0.39552906, 0.9       ],\n",
       "       [0.07686723, 0.2       ],\n",
       "       [0.15438686, 0.3       ],\n",
       "       [0.34439282, 0.4       ],\n",
       "       [0.48613465, 0.6       ],\n",
       "       [0.5587683 , 0.6       ],\n",
       "       [0.02231032, 0.        ],\n",
       "       [0.10150772, 0.1       ],\n",
       "       [0.35802827, 0.4       ],\n",
       "       [0.44105704, 0.7       ],\n",
       "       [0.44370349, 0.4       ],\n",
       "       [0.19859869, 0.5       ],\n",
       "       [0.07931353, 0.        ],\n",
       "       [0.50394703, 0.7       ],\n",
       "       [0.43173353, 0.5       ],\n",
       "       [0.47927916, 0.5       ],\n",
       "       [0.33466994, 0.6       ],\n",
       "       [0.14232626, 0.3       ],\n",
       "       [0.32730838, 0.3       ],\n",
       "       [0.23420457, 0.3       ],\n",
       "       [0.63609533, 0.7       ],\n",
       "       [0.16083731, 0.3       ],\n",
       "       [0.23295262, 0.4       ],\n",
       "       [0.1815624 , 0.3       ],\n",
       "       [0.05576542, 0.2       ],\n",
       "       [0.0047472 , 0.        ],\n",
       "       [0.28238089, 0.5       ],\n",
       "       [0.23653379, 0.3       ],\n",
       "       [0.16953201, 0.2       ],\n",
       "       [0.39375028, 0.4       ],\n",
       "       [0.24684771, 0.4       ],\n",
       "       [0.39250683, 0.5       ],\n",
       "       [0.36699583, 0.2       ],\n",
       "       [0.57285694, 0.6       ],\n",
       "       [0.21905564, 0.2       ],\n",
       "       [0.09903781, 0.2       ],\n",
       "       [0.29719558, 0.2       ],\n",
       "       [0.56077368, 0.6       ],\n",
       "       [0.5235769 , 0.6       ],\n",
       "       [0.26324669, 0.6       ],\n",
       "       [0.3558114 , 0.4       ],\n",
       "       [0.21084057, 0.7       ],\n",
       "       [0.28196829, 0.2       ],\n",
       "       [0.53035025, 0.6       ],\n",
       "       [0.22713003, 0.3       ],\n",
       "       [0.49417883, 0.5       ],\n",
       "       [0.75135934, 0.7       ],\n",
       "       [0.26203251, 0.4       ],\n",
       "       [0.29274202, 0.4       ],\n",
       "       [0.42052927, 0.5       ],\n",
       "       [0.0296445 , 0.        ],\n",
       "       [0.66004942, 0.7       ],\n",
       "       [0.        , 0.        ],\n",
       "       [0.1941083 , 0.2       ],\n",
       "       [0.14702153, 0.2       ],\n",
       "       [0.12234422, 0.1       ],\n",
       "       [0.37363983, 0.4       ],\n",
       "       [0.71579407, 0.9       ],\n",
       "       [0.35093391, 0.2       ],\n",
       "       [0.37846162, 0.5       ],\n",
       "       [0.55403432, 0.7       ],\n",
       "       [0.26401618, 0.4       ],\n",
       "       [0.28731786, 0.3       ],\n",
       "       [0.12448367, 0.2       ],\n",
       "       [0.27543098, 0.4       ],\n",
       "       [0.18677035, 0.2       ],\n",
       "       [0.2806833 , 0.2       ],\n",
       "       [0.54445589, 0.8       ],\n",
       "       [0.21250039, 0.4       ],\n",
       "       [0.07127784, 0.2       ],\n",
       "       [0.08621622, 0.        ],\n",
       "       [0.39363603, 0.3       ],\n",
       "       [0.08734921, 0.        ],\n",
       "       [0.32668807, 0.5       ],\n",
       "       [0.70722211, 0.6       ],\n",
       "       [0.05291408, 0.2       ],\n",
       "       [0.4115315 , 0.8       ],\n",
       "       [0.23754592, 0.2       ],\n",
       "       [0.25230774, 0.4       ],\n",
       "       [0.61576395, 0.6       ],\n",
       "       [0.19383638, 0.4       ],\n",
       "       [0.2335701 , 0.1       ],\n",
       "       [0.38292935, 0.6       ],\n",
       "       [0.28846689, 0.5       ],\n",
       "       [0.27697562, 0.3       ],\n",
       "       [0.49215173, 0.8       ],\n",
       "       [0.10240372, 0.3       ],\n",
       "       [0.11347863, 0.1       ],\n",
       "       [0.56560018, 0.4       ],\n",
       "       [0.00520983, 0.        ],\n",
       "       [0.29038919, 0.7       ],\n",
       "       [0.6262903 , 0.7       ],\n",
       "       [0.46462591, 0.5       ],\n",
       "       [0.51632204, 0.7       ],\n",
       "       [0.57121223, 0.7       ],\n",
       "       [0.22472622, 0.4       ],\n",
       "       [0.61339129, 0.7       ],\n",
       "       [0.44612052, 0.5       ],\n",
       "       [0.26973869, 0.4       ],\n",
       "       [0.33437725, 0.4       ],\n",
       "       [0.45000005, 0.6       ],\n",
       "       [0.51030401, 1.        ],\n",
       "       [0.08119333, 0.        ],\n",
       "       [0.17850713, 0.4       ],\n",
       "       [0.17723158, 0.2       ],\n",
       "       [0.44655956, 0.7       ],\n",
       "       [0.53798467, 0.4       ],\n",
       "       [0.28842158, 0.2       ],\n",
       "       [0.25268541, 0.5       ],\n",
       "       [0.37255406, 0.3       ],\n",
       "       [0.31651861, 0.5       ],\n",
       "       [0.10473011, 0.4       ],\n",
       "       [0.2254315 , 0.2       ],\n",
       "       [0.0842335 , 0.3       ],\n",
       "       [0.47115001, 0.6       ],\n",
       "       [0.12441097, 0.1       ],\n",
       "       [0.39484172, 0.6       ],\n",
       "       [0.27301112, 0.3       ],\n",
       "       [0.42328337, 0.5       ],\n",
       "       [0.29745711, 0.5       ],\n",
       "       [0.06522488, 0.1       ],\n",
       "       [0.21311881, 0.2       ],\n",
       "       [0.04900151, 0.        ],\n",
       "       [0.1757502 , 0.2       ],\n",
       "       [0.16701112, 0.2       ],\n",
       "       [0.26454868, 0.3       ],\n",
       "       [0.24518884, 0.4       ],\n",
       "       [0.28827051, 0.3       ],\n",
       "       [0.39811415, 0.5       ],\n",
       "       [0.30686748, 0.4       ],\n",
       "       [0.52191708, 0.4       ],\n",
       "       [0.34190403, 0.7       ],\n",
       "       [0.17049316, 0.1       ],\n",
       "       [1.        , 0.9       ],\n",
       "       [0.20362347, 0.3       ],\n",
       "       [0.56292918, 0.6       ],\n",
       "       [0.11540564, 0.1       ],\n",
       "       [0.53711983, 0.7       ],\n",
       "       [0.23494667, 0.3       ],\n",
       "       [0.27060164, 0.8       ],\n",
       "       [0.50752253, 0.4       ],\n",
       "       [0.40810234, 0.4       ],\n",
       "       [0.0470169 , 0.        ],\n",
       "       [0.0133692 , 0.        ],\n",
       "       [0.31190076, 0.4       ],\n",
       "       [0.44020447, 0.5       ],\n",
       "       [0.3419012 , 0.5       ],\n",
       "       [0.49997309, 0.6       ],\n",
       "       [0.71303242, 1.        ],\n",
       "       [0.1693564 , 0.4       ],\n",
       "       [0.3431201 , 0.3       ],\n",
       "       [0.18789106, 0.2       ],\n",
       "       [0.26857077, 0.4       ],\n",
       "       [0.28886061, 0.7       ],\n",
       "       [0.44562862, 0.7       ],\n",
       "       [0.53749843, 0.5       ],\n",
       "       [0.28374896, 0.4       ],\n",
       "       [0.62557086, 0.8       ],\n",
       "       [0.21932567, 0.3       ],\n",
       "       [0.20941868, 0.2       ],\n",
       "       [0.46938255, 0.3       ],\n",
       "       [0.42023847, 0.5       ],\n",
       "       [0.4578554 , 0.4       ],\n",
       "       [0.47802344, 0.4       ],\n",
       "       [0.200098  , 0.5       ],\n",
       "       [0.54059147, 0.7       ],\n",
       "       [0.26526813, 0.4       ],\n",
       "       [0.57859267, 0.9       ],\n",
       "       [0.21233611, 0.2       ],\n",
       "       [0.22918828, 0.3       ],\n",
       "       [0.24797881, 0.3       ],\n",
       "       [0.3371068 , 0.5       ],\n",
       "       [0.30828843, 0.5       ],\n",
       "       [0.46248457, 0.4       ],\n",
       "       [0.35574342, 0.4       ],\n",
       "       [0.31259188, 0.6       ],\n",
       "       [0.31553197, 0.2       ],\n",
       "       [0.15854963, 0.2       ],\n",
       "       [0.42770861, 0.4       ],\n",
       "       [0.66364097, 0.7       ],\n",
       "       [0.24178328, 0.4       ],\n",
       "       [0.27386652, 0.4       ],\n",
       "       [0.27527803, 0.4       ],\n",
       "       [0.18792032, 0.3       ],\n",
       "       [0.27634681, 0.3       ],\n",
       "       [0.35753259, 0.6       ],\n",
       "       [0.37330938, 0.5       ],\n",
       "       [0.46268379, 0.3       ],\n",
       "       [0.17431792, 0.2       ],\n",
       "       [0.08020292, 0.1       ],\n",
       "       [0.17909816, 0.3       ],\n",
       "       [0.44150834, 0.4       ]])"
      ]
     },
     "execution_count": 16,
     "metadata": {},
     "output_type": "execute_result"
    }
   ],
   "source": [
    "clustering_data = scaler.fit_transform(clustering_features[['TotalValue', 'TransactionID']])\n",
    "clustering_data"
   ]
  },
  {
   "cell_type": "code",
   "execution_count": 25,
   "id": "545dd4ad-395a-4c58-819d-1f288d4bc341",
   "metadata": {},
   "outputs": [],
   "source": [
    "kmeans = KMeans(n_clusters=4, random_state=42)\n",
    "clustering_features['Cluster'] = kmeans.fit_predict(clustering_data)\n"
   ]
  },
  {
   "cell_type": "markdown",
   "id": "1aa282d0-f04a-4f49-8537-3966b73ed00f",
   "metadata": {},
   "source": [
    "### Evaluate clusters using metrics"
   ]
  },
  {
   "cell_type": "code",
   "execution_count": 24,
   "id": "cca74a3c-2387-4da1-97f1-81710bfeae65",
   "metadata": {},
   "outputs": [
    {
     "data": {
      "text/plain": [
       "0.9050755125597796"
      ]
     },
     "execution_count": 24,
     "metadata": {},
     "output_type": "execute_result"
    }
   ],
   "source": [
    "db_index = davies_bouldin_score(clustering_data, kmeans.labels_)\n",
    "db_index"
   ]
  },
  {
   "cell_type": "markdown",
   "id": "8d200c60-5234-4887-a3aa-63dcfd370e29",
   "metadata": {},
   "source": [
    "# Visualizations"
   ]
  },
  {
   "cell_type": "code",
   "execution_count": 27,
   "id": "5f8a251c-5eec-4379-b810-dede989a1309",
   "metadata": {},
   "outputs": [],
   "source": [
    "import matplotlib.pyplot as plt"
   ]
  },
  {
   "cell_type": "code",
   "execution_count": 23,
   "id": "085facdb-37c3-4c21-89f1-131e98dbadc2",
   "metadata": {},
   "outputs": [
    {
     "data": {
      "image/png": "[encoded data removed]",
      "text/plain": [
       "<Figure size 800x600 with 1 Axes>"
      ]
     },
     "metadata": {},
     "output_type": "display_data"
    }
   ],
   "source": [
    "plt.figure(figsize=(8, 6))\n",
    "for cluster in range(4):\n",
    "    plt.scatter(\n",
    "        clustering_data[kmeans.labels_ == cluster, 0],\n",
    "        clustering_data[kmeans.labels_ == cluster, 1],\n",
    "        label=f'Cluster {cluster}'\n",
    "    )\n",
    "plt.title('Customer Segmentation')\n",
    "plt.xlabel('Total Spending (Normalized)')\n",
    "plt.ylabel('Number of Transactions (Normalized)')\n",
    "plt.legend()\n",
    "plt.savefig('C:\\\\Users\\\\LENOVO\\\\Downloads\\\\customer_segmentation_clusters.png')\n"
   ]
  },
  {
   "cell_type": "code",
   "execution_count": null,
   "id": "7a5922c2-6bb8-4674-b878-12a85e09b9e2",
   "metadata": {},
   "outputs": [],
   "source": []
  }
 ],
 "metadata": {
  "kernelspec": {
   "display_name": "Python 3 (ipykernel)",
   "language": "python",
   "name": "python3"
  },
  "language_info": {
   "codemirror_mode": {
    "name": "ipython",
    "version": 3
   },
   "file_extension": ".py",
   "mimetype": "text/x-python",
   "name": "python",
   "nbconvert_exporter": "python",
   "pygments_lexer": "ipython3",
   "version": "3.12.5"
  }
 },
 "nbformat": 4,
 "nbformat_minor": 5
}
